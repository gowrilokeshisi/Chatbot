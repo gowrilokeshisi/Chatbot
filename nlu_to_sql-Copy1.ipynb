{
 "cells": [
  {
   "cell_type": "code",
   "execution_count": 15,
   "metadata": {
    "scrolled": true
   },
   "outputs": [
    {
     "name": "stdout",
     "output_type": "stream",
     "text": [
      "SELECT sum(amount) FROM Statement WHERE customer_Id = 'C2' AND category = 'Gov Tax' AND date < '2020-07-09 00:00:00' AND date >= '2016-05-09 00:00:00'\n"
     ]
    }
   ],
   "source": [
    "#Importing the packages required\n",
    "import datetime\n",
    "import sqlite3 \n",
    "import re\n",
    "from dateutil.relativedelta import relativedelta\n",
    "import pandas as pd\n",
    "import matplotlib as mpl\n",
    "import sys\n",
    "%matplotlib inline\n",
    "\n",
    "#Inputs of the rasa_nlu models\n",
    "entities=['Gov Tax','50_months']\n",
    "intent=['how_much']\n",
    "customer='C2'\n",
    "def rearrange(list):\n",
    "    if list[0] in ['coffee','Gov Tax','Taxi','Food','Clothings']:\n",
    "        return list\n",
    "    if list[1] in ['coffee','Gov Tax','Taxi','Food','Clothings']:\n",
    "        temp=list[0]\n",
    "        list[0]=list[1]\n",
    "        list[1]=temp\n",
    "        return list\n",
    "entities=rearrange(entities)\n",
    "\n",
    "\n",
    "#Program for asking Intent\n",
    "if intent==[]:\n",
    "    intent.append('a')\n",
    "if intent[0] not in ['how_much','how_many']:\n",
    "    inp = \"\"\n",
    "    while inp != \"how_much spent\" and inp != \"how_many times spent\":\n",
    "        print('Hi',customer,'Hi,I didnot get what you are exactly looking for. ')\n",
    "        inp = input(\"Please,Enter what you require from: how_much spent or how_many times spent: \")\n",
    "        if inp != \"how_much spent\" and inp != \"how_many times spent\":\n",
    "            print(\"You must type how_much spent or how_many times spent\")\n",
    "    intent[0]=inp.split(' ')[0]\n",
    "if len(entities)!=2:\n",
    "    inp1 = \"\"\n",
    "    while inp1 != \"how_much spent\" and inp != \"how_many times spent\":\n",
    "        print('Hi',customer,'Hi,I didnot get what you are exactly looking for. ')\n",
    "        inp = input(\"Please,Enter what you require from: how_much spent or how_many times spent: \")\n",
    "        if inp1 != \"how_much spent\" and inp != \"how_many times spent\":\n",
    "            print(\"You must type how_much spent or how_many times spent\")\n",
    "#Function that transforms the list of entities into an sql query\n",
    "def query(list):\n",
    "    to = datetime.date.today()\n",
    "    if list[1].split('_')[1]=='days':\n",
    "        fro=to+relativedelta(days=-int(list[1].split('_')[0]))\n",
    "    if list[1].split('_')[1]=='months':\n",
    "        fro=to+relativedelta(months=-int(list[1].split('_')[0]))\n",
    "    if list[1].split('_')[1]=='years':\n",
    "        fro=to+relativedelta(years=-int(list[1].split('_')[0]))\n",
    "    to=to.strftime(\"%Y-%m-%d 00:00:00\")\n",
    "    fro=fro.strftime(\"%Y-%m-%d 00:00:00\")\n",
    "    item='a'\n",
    "    for i in list:\n",
    "        if i in ['coffee','Gov Tax','Taxi','Food','Clothings']:\n",
    "            item=i\n",
    "    if intent[0]=='how_much':\n",
    "        j='sum(amount)'\n",
    "    if intent[0]=='how_many':\n",
    "        j='COUNT(amount)'  \n",
    "    return 'SELECT ',j,' FROM Statement WHERE customer_Id = ',customer,' AND category = ',item, ' AND date < ',to,' AND date >= ',fro\n",
    "\n",
    "#Using the function query,that transforms the list of entities into an sql query\n",
    "x=[]\n",
    "for i in query(entities):\n",
    "    x.append(i)\n",
    "s= ''\n",
    "x=s.join(x)\n",
    "x\n",
    "c=query(entities)\n",
    "\n",
    "#Rearranging the SQL query in the required form\n",
    "\n",
    "s= ''\n",
    "d=[s.join(c[0:3]),c[3],c[4],c[5],c[6],c[7],c[8],c[9],\"\"]\n",
    "x=[]\n",
    "for i in d:\n",
    "    x.append(i)\n",
    "s= \"'\"\n",
    "x=s.join(x)\n",
    "\n",
    "#Print the SQL query that is used to query the Database corresponding to the given inputs from the Rasa_nlu model\n",
    "print(x)"
   ]
  },
  {
   "cell_type": "code",
   "execution_count": 16,
   "metadata": {
    "scrolled": true
   },
   "outputs": [
    {
     "name": "stdout",
     "output_type": "stream",
     "text": [
      "276\n"
     ]
    }
   ],
   "source": [
    "# connect withe the myTable database \n",
    "connection = sqlite3.connect(\"statement.db\")\n",
    "\n",
    "#Function that takes the connection and outputs the table containg the result of the query\n",
    "def sum(conn):\n",
    "    \"\"\"\n",
    "    Query sum of amount in the statement table corresponding to the other entity constraints\n",
    "    :param conn: the Connection object\n",
    "    :return:\n",
    "    \"\"\"\n",
    "    cur = conn.cursor()\n",
    "    cur.execute(x)\n",
    "    #cur.execute(\"SELECT sum(amount) FROM Sheet1 WHERE customer_Id='C1' AND category='Clothings' AND date <'2020-02-20 00:00:00' AND date>= '2019-12-20 00:00:00'\")\n",
    "    results=cur.fetchall()\n",
    "    return results\n",
    "\n",
    "#Function that takes the connection as input and outputs the result of the query\n",
    "def result(conn):\n",
    "    for i in sum(conn):\n",
    "        return i[0]\n",
    "r=result(connection)               #Store the result in r\n",
    "print(r)"
   ]
  },
  {
   "cell_type": "code",
   "execution_count": 17,
   "metadata": {
    "scrolled": false
   },
   "outputs": [
    {
     "name": "stdout",
     "output_type": "stream",
     "text": [
      "Hi C2 , The amount you spent in the last 50 months on Gov Tax is 276 dollars\n"
     ]
    }
   ],
   "source": [
    "if r==None:\n",
    "    print(\"Oops...! Couldn't find any transactions matching this criteria\")\n",
    "else:\n",
    "    #Output the result as a statement(in the format that is more of an interactive in nature)\n",
    "    if intent[0]=='how_much':\n",
    "        print('Hi',customer,\",\",'The amount you spent in the last',entities[1].split('_')[0],entities[1].split('_')[1],'on',entities[0],'is',r,'dollars')\n",
    "    if intent[0]=='how_many':\n",
    "        print('Hi',customer,\",\",'The no. of times you spent in the last',entities[1].split('_')[0],entities[1].split('_')[1],'on',entities[0],'is',r)"
   ]
  },
  {
   "cell_type": "code",
   "execution_count": 18,
   "metadata": {
    "scrolled": true
   },
   "outputs": [
    {
     "name": "stdout",
     "output_type": "stream",
     "text": [
      "SELECT * FROM Statement WHERE customer_id = 'C2' AND category = 'Gov Tax' AND date < '2020-07-09 00:00:00' AND date >= '2016-05-09 00:00:00'\n",
      "Hi Mr C2 ,\n",
      "The amount you spent in the last 50 months on Gov Tax is 276 dollars\n",
      "        amount\n",
      "date          \n",
      "Aug-19      64\n",
      "Oct-19      87\n",
      "Nov-19      56\n",
      "Dec-19      69\n"
     ]
    },
    {
     "data": {
      "image/png": "[encoded data removed]",
      "text/plain": [
       "<Figure size 432x288 with 1 Axes>"
      ]
     },
     "metadata": {},
     "output_type": "display_data"
    }
   ],
   "source": [
    "def query1(list):\n",
    "    to = datetime.date.today()\n",
    "    if list[1].split('_')[1]=='days':\n",
    "        fro=to+relativedelta(days=-int(list[1].split('_')[0]))\n",
    "    if list[1].split('_')[1]=='months':\n",
    "        fro=to+relativedelta(months=-int(list[1].split('_')[0]))\n",
    "    if list[1].split('_')[1]=='years':\n",
    "        fro=to+relativedelta(years=-int(list[1].split('_')[0]))\n",
    "    to=to.strftime(\"%Y-%m-%d 00:00:00\")\n",
    "    fro=fro.strftime(\"%Y-%m-%d 00:00:00\")\n",
    "    item='a'\n",
    "    for i in list:\n",
    "        if i in ['coffee','Gov Tax','Taxi','Food','Clothings']:\n",
    "            item=i\n",
    "    return 'SELECT * FROM Statement WHERE customer_id = ',customer,' AND category = ',item, ' AND date < ',to,' AND date >= ',fro\n",
    "c=query1(entities)\n",
    "s= ''\n",
    "d=[s.join(c[0]),c[1],c[2],c[3],c[4],c[5],c[6],c[7],\"\"]\n",
    "x=[]\n",
    "for i in d:\n",
    "    x.append(i)\n",
    "s= \"'\"\n",
    "x=s.join(x)\n",
    "print(x)\n",
    "c=query1(entities)\n",
    "def sum(conn):\n",
    "    cur = conn.cursor()\n",
    "    cur.execute(x)\n",
    "    #cur.execute(\"SELECT * FROM statement WHERE customer_id='C1' AND category='Taxi' AND date <'2020-02-20 00:00:00' AND date>= '2019-10-20 00:00:00'\")\n",
    "    results=cur.fetchall()\n",
    "    #print(results[0][0])\n",
    "    return results\n",
    "#print(sum(connection))\n",
    "import pandas as pd\n",
    "df = pd.DataFrame.from_records(sum(connection))#,index=1)\n",
    "if df.size==0:\n",
    "    print(\"Oops...! Couldn't find any transactions matching this criteria\")\n",
    "if df.size!=0:\n",
    "    df.columns=['cust','date','amount','category']\n",
    "    df.date = pd.to_datetime(df.date)\n",
    "    dg = df.groupby(pd.Grouper(key='date', freq='1M')).sum() # groupby each 1 month\n",
    "    dg.index = dg.index.strftime('%b-%y')\n",
    "#Printing the output corresponding to the \n",
    "    if intent[0]=='how_much':\n",
    "        print('Hi Mr',customer,\",\")\n",
    "        print('The amount you spent in the last',entities[1].split('_')[0],entities[1].split('_')[1],'on',entities[0],'is',r,'dollars')\n",
    "        dg=dg[(dg.T != 0).any()]\n",
    "        print(dg)\n",
    "        #dg.plot.line()\n",
    "        #dg.plot.bar()\n",
    "        dg.plot.pie(subplots=True,autopct='%1.1f%%',shadow=True, startangle=90)\n",
    "    if intent[0]=='how_many':\n",
    "        df=df[[\"date\",\"amount\"]]\n",
    "        df.columns=['date','count']\n",
    "        df.date = pd.to_datetime(df.date)\n",
    "        dg = df.groupby(pd.Grouper(key='date', freq='1M')).count() # groupby each 1 month\n",
    "        dg.index = dg.index.strftime('%b-%y')\n",
    "        print('Hi Mr',customer)\n",
    "        print('The no. of times you spent in the last',entities[1].split('_')[0],entities[1].split('_')[1],'on',entities[0],'is',r)\n",
    "        print()\n",
    "        #dg.index.name=\"Month\"\n",
    "        dg.columns=['count']\n",
    "        dg=dg[(dg.T != 0).any()]\n",
    "        print(dg)\n",
    "        #dg.plot.line()\n",
    "        dg.plot.bar()\n",
    "        #dg.plot.pie(subplots=True)"
   ]
  },
  {
   "cell_type": "code",
   "execution_count": null,
   "metadata": {},
   "outputs": [],
   "source": []
  },
  {
   "cell_type": "code",
   "execution_count": null,
   "metadata": {},
   "outputs": [],
   "source": []
  },
  {
   "cell_type": "code",
   "execution_count": null,
   "metadata": {},
   "outputs": [],
   "source": []
  },
  {
   "cell_type": "code",
   "execution_count": null,
   "metadata": {},
   "outputs": [],
   "source": []
  },
  {
   "cell_type": "code",
   "execution_count": 5,
   "metadata": {},
   "outputs": [
    {
     "name": "stdout",
     "output_type": "stream",
     "text": [
      "Hi C1 Hi,I didnot get what you are exactly looking for. \n",
      "Please,Enter what you require from: how_much spent or how_many times spent: how_much spent\n",
      "how_much\n"
     ]
    }
   ],
   "source": [
    "#Program for asking Intent\n",
    "inp = \"\"\n",
    "while inp != \"how_much spent\" and inp != \"how_many times spent\":\n",
    "    print('Hi',customer,'Hi,I didnot get what you are exactly looking for. ')\n",
    "    inp = input(\"Please,Enter what you require from: how_much spent or how_many times spent: \")\n",
    "    if inp != \"how_much spent\" and inp != \"how_many times spent\":\n",
    "        print(\"You must type how_much spent or how_many times spent\")\n",
    "intent[0]=inp.split(' ')[0]\n",
    "print(intent[0])"
   ]
  },
  {
   "cell_type": "code",
   "execution_count": 22,
   "metadata": {},
   "outputs": [],
   "source": [
    "entities=['8_months']#'Gov Tax','8_months']"
   ]
  },
  {
   "cell_type": "code",
   "execution_count": 23,
   "metadata": {},
   "outputs": [
    {
     "name": "stdout",
     "output_type": "stream",
     "text": [
      "Hi C1 Hi,I didnot get what you are exactly looking for. \n",
      "Please,Enter the category which you want to analyse: coffee ,Gov Tax ,Taxi ,Food ,Clothings: Taxi\n"
     ]
    }
   ],
   "source": [
    "#Program for asking entity1\n",
    "inp1 = \"\"\n",
    "while len(entities)!=2 and len([value for value in entities if value in ['coffee','Gov Tax','Taxi','Food','Clothings']])!=1:\n",
    "    print('Hi',customer,'Hi,I didnot get what you are exactly looking for. ')\n",
    "    inp1 = input(\"Please,Enter the category which you want to analyse: coffee ,Gov Tax ,Taxi ,Food ,Clothings: \")\n",
    "    if inp1 in ['coffee','Gov Tax','Taxi','Food','Clothings']:\n",
    "        entities.append(inp1)"
   ]
  },
  {
   "cell_type": "code",
   "execution_count": 24,
   "metadata": {},
   "outputs": [
    {
     "data": {
      "text/plain": [
       "['8_months', 'Taxi']"
      ]
     },
     "execution_count": 24,
     "metadata": {},
     "output_type": "execute_result"
    }
   ],
   "source": [
    "entities"
   ]
  },
  {
   "cell_type": "code",
   "execution_count": 25,
   "metadata": {},
   "outputs": [
    {
     "data": {
      "text/plain": [
       "['Taxi', '8_months']"
      ]
     },
     "execution_count": 25,
     "metadata": {},
     "output_type": "execute_result"
    }
   ],
   "source": [
    "#Rearranging the entities so thta entity one is the category\n",
    "#entities=['80_days','Gov Tax']\n",
    "def rearrange(list):\n",
    "    if list[0] in ['coffee','Gov Tax','Taxi','Food','Clothings']:\n",
    "        return list\n",
    "    if list[1] in ['coffee','Gov Tax','Taxi','Food','Clothings']:\n",
    "        temp=list[0]\n",
    "        list[0]=list[1]\n",
    "        list[1]=temp\n",
    "        return list\n",
    "rearrange(entities)"
   ]
  },
  {
   "cell_type": "code",
   "execution_count": 26,
   "metadata": {},
   "outputs": [
    {
     "name": "stdout",
     "output_type": "stream",
     "text": [
      "8_months\n"
     ]
    }
   ],
   "source": [
    "for i in entities:\n",
    "    if i.endswith(\"days\")==True or i.endswith(\"months\")==True or i.endswith(\"years\")==True:\n",
    "        print(i)"
   ]
  },
  {
   "cell_type": "code",
   "execution_count": 6,
   "metadata": {},
   "outputs": [
    {
     "name": "stdout",
     "output_type": "stream",
     "text": [
      "['How', 'much', 'did', 'i', 'spent', 'on', 'clothing', 'in', 'the', 'last', 'one', 'month']\n"
     ]
    },
    {
     "data": {
      "text/plain": [
       "['How', 'spent', 'clothing', 'month']"
      ]
     },
     "execution_count": 6,
     "metadata": {},
     "output_type": "execute_result"
    }
   ],
   "source": [
    "x=\"How much did i spent on clothing in the last one month?\"\n",
    "from gensim.parsing.preprocessing import remove_stopwords\n",
    "punctuations = '''!()-[]{};:'\"\\,<>./?@#$%^&*_~'''\n",
    "for y in x.lower(): \n",
    "    if y in punctuations: \n",
    "        x = x.replace(y, \"\")\n",
    "print(x.split())\n",
    "x=remove_stopwords(x)\n",
    "x=x.split()\n",
    "x"
   ]
  },
  {
   "cell_type": "code",
   "execution_count": 7,
   "metadata": {},
   "outputs": [
    {
     "data": {
      "text/plain": [
       "['how', 'spent', 'clothing', 'month']"
      ]
     },
     "execution_count": 7,
     "metadata": {},
     "output_type": "execute_result"
    }
   ],
   "source": [
    "y=[]\n",
    "for word in x:\n",
    "    word=word.lower()\n",
    "    y.append(word)\n",
    "y"
   ]
  },
  {
   "cell_type": "code",
   "execution_count": 8,
   "metadata": {},
   "outputs": [
    {
     "name": "stdout",
     "output_type": "stream",
     "text": [
      "['How', 'much', 'did', 'i', 'spent', 'on', 'clothing', 'in', 'the', 'last', 'one', 'month']\n",
      "['How', 'spent', 'clothing', 'month']\n"
     ]
    }
   ],
   "source": [
    "import spacy\n",
    "sp = spacy.load('en_core_web_sm')\n",
    "\n",
    "all_stopwords = sp.Defaults.stop_words\n",
    "\n",
    "x=\"How much did i spent on clothing in the last one month?\"\n",
    "from gensim.parsing.preprocessing import remove_stopwords\n",
    "punctuations = '''!()-[]{};:'\"\\,<>./?@#$%^&*_~'''\n",
    "for y in x.lower(): \n",
    "    if y in punctuations: \n",
    "        x = x.replace(y, \"\")\n",
    "print(x.split())\n",
    "x= [word for word in x.split() if not word in all_stopwords]\n",
    "\n",
    "print(x)"
   ]
  },
  {
   "cell_type": "code",
   "execution_count": null,
   "metadata": {},
   "outputs": [],
   "source": []
  },
  {
   "cell_type": "code",
   "execution_count": 27,
   "metadata": {},
   "outputs": [
    {
     "name": "stdout",
     "output_type": "stream",
     "text": [
      "4\n",
      "5\n",
      "6\n",
      "7\n",
      "8\n",
      "9\n"
     ]
    }
   ],
   "source": [
    "for i in range(10):\n",
    "    if i>=4:\n",
    "        print(i)"
   ]
  },
  {
   "cell_type": "code",
   "execution_count": 28,
   "metadata": {},
   "outputs": [],
   "source": [
    "import sqlite3\n",
    "import pandas as pd\n",
    "filename=\"statement\"\n",
    "con=sqlite3.connect(filename+\".db\")\n",
    "wb=pd.ExcelFile(filename+'.xlsx')\n",
    "for sheet in wb.sheet_names:\n",
    "        df=pd.read_excel(filename+'.xlsx',sheet_name=0)\n",
    "        df.to_sql(sheet,con, index=False,if_exists=\"replace\")\n",
    "con.commit()\n",
    "con.close()"
   ]
  },
  {
   "cell_type": "code",
   "execution_count": null,
   "metadata": {},
   "outputs": [],
   "source": []
  },
  {
   "cell_type": "code",
   "execution_count": null,
   "metadata": {},
   "outputs": [],
   "source": []
  },
  {
   "cell_type": "code",
   "execution_count": null,
   "metadata": {},
   "outputs": [],
   "source": []
  },
  {
   "cell_type": "code",
   "execution_count": null,
   "metadata": {},
   "outputs": [],
   "source": []
  },
  {
   "cell_type": "code",
   "execution_count": null,
   "metadata": {},
   "outputs": [],
   "source": []
  }
 ],
 "metadata": {
  "kernelspec": {
   "display_name": "Python 3",
   "language": "python",
   "name": "python3"
  },
  "language_info": {
   "codemirror_mode": {
    "name": "ipython",
    "version": 3
   },
   "file_extension": ".py",
   "mimetype": "text/x-python",
   "name": "python",
   "nbconvert_exporter": "python",
   "pygments_lexer": "ipython3",
   "version": "3.7.3"
  }
 },
 "nbformat": 4,
 "nbformat_minor": 2
}
